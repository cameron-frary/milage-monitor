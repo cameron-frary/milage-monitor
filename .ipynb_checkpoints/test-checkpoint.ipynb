{
 "cells": [
  {
   "cell_type": "code",
   "execution_count": 11,
   "id": "72af6c5e-68ca-4b87-a0fb-6211712de633",
   "metadata": {},
   "outputs": [],
   "source": [
    "import cv2\n",
    "import pytesseract\n",
    "test_image = cv2.imread(\"test.jpg\")\n",
    "odom = cv2.imread(\"test_image.jpg\")\n",
    "# image = cv2.resize(image, (int(image.shape[1]/3), int(image.shape[0]/3)))"
   ]
  },
  {
   "cell_type": "code",
   "execution_count": 6,
   "id": "7ea0488c-a987-42d0-b4ba-064abc1d944c",
   "metadata": {},
   "outputs": [],
   "source": [
    "# cv2.imwrite(\"test_image.jpg\", image)\n",
    "# image_rgb = cv2.cvtColor(image, cv2.COLOR_BGR2RGB)\n",
    "# cv2.imwrite(\"test.jpg\", image_rgb)\n",
    "temp = "
   ]
  },
  {
   "cell_type": "code",
   "execution_count": 14,
   "id": "05dce846-d847-44bf-9b25-0a85d4e5de66",
   "metadata": {},
   "outputs": [
    {
     "data": {
      "text/plain": [
       "'\\x0c'"
      ]
     },
     "execution_count": 14,
     "metadata": {},
     "output_type": "execute_result"
    }
   ],
   "source": [
    "pytesseract.image_to_string(temp)"
   ]
  },
  {
   "cell_type": "code",
   "execution_count": 15,
   "id": "021dfaaa-0f4b-4678-a82e-51baae7d8edf",
   "metadata": {},
   "outputs": [
    {
     "data": {
      "text/plain": [
       "'This is a lot of 12 point text to test the\\nocr code and see if it works on all types\\nof file format.\\n\\nThe quick brown dog jumped over the\\nlazy fox. The quick brown dog jumped\\nover the lazy fox. The quick brown dog\\njumped over the lazy fox. The quick\\nbrown dog jumped over the lazy fox.\\n\\x0c'"
      ]
     },
     "execution_count": 15,
     "metadata": {},
     "output_type": "execute_result"
    }
   ],
   "source": [
    "pytesseract.image_to_string(test_image)"
   ]
  }
 ],
 "metadata": {
  "kernelspec": {
   "display_name": "Python 3 (ipykernel)",
   "language": "python",
   "name": "python3"
  },
  "language_info": {
   "codemirror_mode": {
    "name": "ipython",
    "version": 3
   },
   "file_extension": ".py",
   "mimetype": "text/x-python",
   "name": "python",
   "nbconvert_exporter": "python",
   "pygments_lexer": "ipython3",
   "version": "3.11.5"
  }
 },
 "nbformat": 4,
 "nbformat_minor": 5
}
